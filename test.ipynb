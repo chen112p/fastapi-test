{
 "cells": [
  {
   "cell_type": "code",
   "execution_count": 6,
   "id": "03eb0c5b-5e87-4c25-96fb-54095f6b8329",
   "metadata": {},
   "outputs": [],
   "source": [
    "import requests\n",
    "import numpy as np"
   ]
  },
  {
   "cell_type": "code",
   "execution_count": 15,
   "id": "39c73b24-6f09-4327-aa7d-d23b72957305",
   "metadata": {},
   "outputs": [],
   "source": [
    "## url = r'http://127.0.0.1:8000/predict'\n",
    "data = {\n",
    "  \"variance\": 0.40614,\n",
    "  \"skewness\": 1.34920,\n",
    "  \"kurtosis\": -1.4501,\n",
    "  \"entropy\": -0.55949\n",
    "}\n",
    "response = requests.post(url,json=data)"
   ]
  },
  {
   "cell_type": "code",
   "execution_count": 16,
   "id": "9580db07-e7eb-425e-96c9-0167fa7bb712",
   "metadata": {},
   "outputs": [
    {
     "name": "stdout",
     "output_type": "stream",
     "text": [
      "{'prediction': 'Fake note'}\n"
     ]
    }
   ],
   "source": [
    "if response.status_code == 200:\n",
    "    # Request was successful\n",
    "    data = response.json()\n",
    "    print(data)\n",
    "else:\n",
    "    # Request failed\n",
    "    print(f\"Error: {response.status_code} - {response.text}\")\n"
   ]
  },
  {
   "cell_type": "code",
   "execution_count": null,
   "id": "11da480c-4a36-48f1-bf65-50768bd420f1",
   "metadata": {},
   "outputs": [],
   "source": []
  }
 ],
 "metadata": {
  "kernelspec": {
   "display_name": "Python 3 (ipykernel)",
   "language": "python",
   "name": "python3"
  },
  "language_info": {
   "codemirror_mode": {
    "name": "ipython",
    "version": 3
   },
   "file_extension": ".py",
   "mimetype": "text/x-python",
   "name": "python",
   "nbconvert_exporter": "python",
   "pygments_lexer": "ipython3",
   "version": "3.11.5"
  }
 },
 "nbformat": 4,
 "nbformat_minor": 5
}
